{
  "cells": [
    {
      "cell_type": "markdown",
      "metadata": {},
      "source": [
        "---\n",
        "title: \"数据类型\"\n",
        "---\n",
        "\n",
        "## Python的数据类型大家族\n",
        "\n",
        "就像我们在生活中需要不同的容器来存放不同的物品，Python也有不同的数据类型来存储不同种类的数据。让我们来认识这个大家族：\n",
        "\n",
        "### 1. 基础数据类型\n",
        "\n",
        "#### 数字家族"
      ]
    },
    {
      "cell_type": "code",
      "execution_count": 1,
      "metadata": {},
      "outputs": [
        {
          "name": "stdout",
          "output_type": "stream",
          "text": [
            "年龄：16，学生数量：42\n",
            "身高：1.75米，体重：62.5千克\n"
          ]
        }
      ],
      "source": [
        "# 整数 (int)：用于存储整数\n",
        "age = 16\n",
        "student_count = 42\n",
        "print(f\"年龄：{age}，学生数量：{student_count}\")\n",
        "\n",
        "# 浮点数 (float)：用于存储小数\n",
        "height = 1.75\n",
        "weight = 62.5\n",
        "print(f\"身高：{height}米，体重：{weight}千克\")"
      ]
    },
    {
      "cell_type": "markdown",
      "metadata": {},
      "source": [
        "#### 文本家族"
      ]
    },
    {
      "cell_type": "code",
      "execution_count": 2,
      "metadata": {},
      "outputs": [
        {
          "name": "stdout",
          "output_type": "stream",
          "text": [
            "姓名：Tom\n",
            "消息：Hello, Python!\n",
            "\n",
            "这是一个多行字符串\n",
            "可以写很多行\n",
            "就像写作文一样\n",
            "\n"
          ]
        }
      ],
      "source": [
        "# 字符串 (str)：用于存储文本\n",
        "name = \"Tom\"\n",
        "message = \"Hello, Python!\"\n",
        "print(f\"姓名：{name}\")\n",
        "print(f\"消息：{message}\")\n",
        "\n",
        "# 多行字符串\n",
        "description = \"\"\"\n",
        "这是一个多行字符串\n",
        "可以写很多行\n",
        "就像写作文一样\n",
        "\"\"\"\n",
        "print(description)"
      ]
    },
    {
      "cell_type": "markdown",
      "metadata": {},
      "source": [
        "#### 逻辑家族"
      ]
    },
    {
      "cell_type": "code",
      "execution_count": 3,
      "metadata": {},
      "outputs": [
        {
          "name": "stdout",
          "output_type": "stream",
          "text": [
            "是学生吗？True\n",
            "及格了吗？False\n"
          ]
        }
      ],
      "source": [
        "# 布尔值 (bool)：只有True和False两种值\n",
        "is_student = True\n",
        "has_passed = False\n",
        "print(f\"是学生吗？{is_student}\")\n",
        "print(f\"及格了吗？{has_passed}\")"
      ]
    },
    {
      "cell_type": "markdown",
      "metadata": {},
      "source": [
        "### 2. 复合数据类型\n",
        "\n",
        "#### 列表 (list)：可以修改的有序集合"
      ]
    },
    {
      "cell_type": "code",
      "execution_count": 4,
      "metadata": {},
      "outputs": [
        {
          "name": "stdout",
          "output_type": "stream",
          "text": [
            "成绩列表：[95, 92, 88]\n",
            "名字列表：['Tom', 'Jerry', 'Spike']\n",
            "添加新成绩后：[95, 92, 88, 90]\n"
          ]
        }
      ],
      "source": [
        "# 存储一组成绩\n",
        "scores = [95, 92, 88]\n",
        "print(f\"成绩列表：{scores}\")\n",
        "\n",
        "# 存储一组名字\n",
        "names = [\"Tom\", \"Jerry\", \"Spike\"]\n",
        "print(f\"名字列表：{names}\")\n",
        "\n",
        "# 可以添加新元素\n",
        "scores.append(90)\n",
        "print(f\"添加新成绩后：{scores}\")"
      ]
    },
    {
      "cell_type": "markdown",
      "metadata": {},
      "source": [
        "#### 元组 (tuple)：不可修改的有序集合"
      ]
    },
    {
      "cell_type": "code",
      "execution_count": 5,
      "metadata": {},
      "outputs": [
        {
          "name": "stdout",
          "output_type": "stream",
          "text": [
            "坐标点：(3, 4)\n",
            "颜色值：(255, 128, 0)\n"
          ]
        }
      ],
      "source": [
        "# 存储坐标点\n",
        "point = (3, 4)\n",
        "print(f\"坐标点：{point}\")\n",
        "\n",
        "# 存储RGB颜色值\n",
        "rgb = (255, 128, 0)\n",
        "print(f\"颜色值：{rgb}\")"
      ]
    },
    {
      "cell_type": "markdown",
      "metadata": {},
      "source": [
        "#### 字典 (dict)：存储配对信息"
      ]
    },
    {
      "cell_type": "code",
      "execution_count": 6,
      "metadata": {},
      "outputs": [
        {
          "name": "stdout",
          "output_type": "stream",
          "text": [
            "学生姓名：Tom\n",
            "学生年龄：16\n",
            "学生成绩：[95, 92, 88]\n"
          ]
        }
      ],
      "source": [
        "# 存储学生信息\n",
        "student = {\n",
        "    \"name\": \"Tom\",\n",
        "    \"age\": 16,\n",
        "    \"scores\": [95, 92, 88]\n",
        "}\n",
        "print(f\"学生姓名：{student['name']}\")\n",
        "print(f\"学生年龄：{student['age']}\")\n",
        "print(f\"学生成绩：{student['scores']}\")"
      ]
    },
    {
      "cell_type": "markdown",
      "metadata": {},
      "source": [
        "#### 集合 (set)：存储不重复的元素"
      ]
    },
    {
      "cell_type": "code",
      "execution_count": 7,
      "metadata": {},
      "outputs": [
        {
          "name": "stdout",
          "output_type": "stream",
          "text": [
            "不重复的数字：{1, 2, 3}\n",
            "班级爱好：{'画画', '编程', '篮球'}\n"
          ]
        }
      ],
      "source": [
        "# 存储独特的数字\n",
        "unique_numbers = {1, 2, 3, 2, 1}  # 重复的会被自动去除\n",
        "print(f\"不重复的数字：{unique_numbers}\")\n",
        "\n",
        "# 存储班级里的爱好\n",
        "hobbies = {\"篮球\", \"编程\", \"画画\", \"篮球\"}  # 重复的\"篮球\"会被去除\n",
        "print(f\"班级爱好：{hobbies}\")"
      ]
    },
    {
      "cell_type": "markdown",
      "metadata": {},
      "source": [
        "> 💡 **生活中的类比**\n",
        "> \n",
        "> - 列表就像是一个可以随时添加或删除物品的购物袋\n",
        "> - 元组就像是一个密封的包裹，一旦封装就不能改变\n",
        "> - 字典就像是一个通讯录，每个名字都对应一个电话号码\n",
        "> - 集合就像是一个俱乐部的会员名单，每个人只能出现一次\n",
        "\n",
        "### 3. 特殊类型\n",
        "\n",
        "#### 日期和时间 (datetime)"
      ]
    },
    {
      "cell_type": "code",
      "execution_count": 8,
      "metadata": {},
      "outputs": [
        {
          "name": "stdout",
          "output_type": "stream",
          "text": [
            "现在是：2025-03-19 11:11:50.479509\n",
            "年份：2025\n",
            "月份：3\n",
            "日期：19\n"
          ]
        }
      ],
      "source": [
        "from datetime import datetime\n",
        "\n",
        "# 获取当前时间\n",
        "now = datetime.now()\n",
        "print(f\"现在是：{now}\")\n",
        "print(f\"年份：{now.year}\")\n",
        "print(f\"月份：{now.month}\")\n",
        "print(f\"日期：{now.day}\")"
      ]
    },
    {
      "cell_type": "markdown",
      "metadata": {},
      "source": [
        "> 🌟 **小贴士**\n",
        "> \n",
        "> 1. 使用 `type()` 函数可以查看任何数据的类型\n",
        "> 2. 不同类型的数据有不同的操作方法\n",
        "> 3. 选择合适的数据类型可以让程序更高效\n",
        "> 4. 复合数据类型可以组合使用，比如列表中存储字典\n",
        "\n",
        "#### 动手练习\n",
        "\n",
        "试试看：\n",
        "\n",
        "1. 创建一个列表，存储你最喜欢的5个数字\n",
        "2. 创建一个字典，存储你的个人信息（姓名、年龄、爱好等）\n",
        "3. 创建一个集合，存储班级里同学的爱好\n",
        "4. 使用datetime显示你的生日\n",
        "\n",
        "## 类型转换：数据类型的\"变身术\"\n",
        "\n",
        "有时候我们需要把一种类型的数据转换成另一种类型，就像把温度从摄氏度转换成华氏度一样。Python提供了多种类型转换的方法：\n",
        "\n",
        "### 1. 数字之间的转换"
      ]
    },
    {
      "cell_type": "code",
      "execution_count": 9,
      "metadata": {},
      "outputs": [
        {
          "name": "stdout",
          "output_type": "stream",
          "text": [
            "价格 19.99 转成整数：19\n",
            "数量 5 转成小数：5.0\n"
          ]
        }
      ],
      "source": [
        "# 小数转整数\n",
        "price = 19.99\n",
        "price_int = int(price)    # 去掉小数部分\n",
        "print(f\"价格 {price} 转成整数：{price_int}\")\n",
        "\n",
        "# 整数转小数\n",
        "count = 5\n",
        "count_float = float(count)\n",
        "print(f\"数量 {count} 转成小数：{count_float}\")"
      ]
    },
    {
      "cell_type": "markdown",
      "metadata": {},
      "source": [
        "### 2. 字符串与数字的转换"
      ]
    },
    {
      "cell_type": "code",
      "execution_count": 10,
      "metadata": {},
      "outputs": [
        {
          "name": "stdout",
          "output_type": "stream",
          "text": [
            "分数字符串 '85.5':\n",
            "- 转成小数：85.5\n",
            "- 转成整数：85\n",
            "\n",
            "数字 42 转成字符串：'42'\n"
          ]
        }
      ],
      "source": [
        "# 字符串转数字\n",
        "score_str = \"85.5\"\n",
        "score_float = float(score_str)    # 转成小数\n",
        "score_int = int(float(score_str)) # 转成整数\n",
        "print(f\"分数字符串 '{score_str}':\")\n",
        "print(f\"- 转成小数：{score_float}\")\n",
        "print(f\"- 转成整数：{score_int}\")\n",
        "\n",
        "# 数字转字符串\n",
        "number = 42\n",
        "text = str(number)\n",
        "print(f\"\\n数字 {number} 转成字符串：'{text}'\")"
      ]
    },
    {
      "cell_type": "markdown",
      "metadata": {},
      "source": [
        "### 3. 安全的类型转换"
      ]
    },
    {
      "cell_type": "code",
      "execution_count": 11,
      "metadata": {},
      "outputs": [
        {
          "name": "stdout",
          "output_type": "stream",
          "text": [
            "安全转换测试：\n",
            "'42' 转换成功：42\n",
            "'3.14' 转换成功：3\n",
            "无法将 'hello' 转换为整数\n",
            "'98.6' 转换成功：98\n",
            "无法将 '' 转换为整数\n"
          ]
        }
      ],
      "source": [
        "def safe_convert_to_int(value):\n",
        "    \"\"\"安全地将值转换为整数\"\"\"\n",
        "    try:\n",
        "        return int(float(value))\n",
        "    except (ValueError, TypeError):\n",
        "        print(f\"无法将 '{value}' 转换为整数\")\n",
        "        return None\n",
        "\n",
        "# 测试不同的转换情况\n",
        "values = [\"42\", \"3.14\", \"hello\", \"98.6\", \"\"]\n",
        "\n",
        "print(\"安全转换测试：\")\n",
        "for value in values:\n",
        "    result = safe_convert_to_int(value)\n",
        "    if result is not None:\n",
        "        print(f\"'{value}' 转换成功：{result}\")"
      ]
    },
    {
      "cell_type": "markdown",
      "metadata": {},
      "source": [
        "### 4. 列表、元组和集合之间的转换"
      ]
    },
    {
      "cell_type": "code",
      "execution_count": 12,
      "metadata": {},
      "outputs": [
        {
          "name": "stdout",
          "output_type": "stream",
          "text": [
            "原始列表：[1, 2, 2, 3, 3, 4]\n",
            "转换成集合（去重）：{1, 2, 3, 4}\n",
            "转换成元组：(1, 2, 2, 3, 3, 4)\n",
            "集合转回列表：[1, 2, 3, 4]\n"
          ]
        }
      ],
      "source": [
        "# 创建一个列表\n",
        "numbers = [1, 2, 2, 3, 3, 4]\n",
        "print(f\"原始列表：{numbers}\")\n",
        "\n",
        "# 转换成集合（去重）\n",
        "unique_numbers = set(numbers)\n",
        "print(f\"转换成集合（去重）：{unique_numbers}\")\n",
        "\n",
        "# 转换成元组\n",
        "number_tuple = tuple(numbers)\n",
        "print(f\"转换成元组：{number_tuple}\")\n",
        "\n",
        "# 集合转回列表\n",
        "unique_list = list(unique_numbers)\n",
        "print(f\"集合转回列表：{unique_list}\")"
      ]
    },
    {
      "cell_type": "markdown",
      "metadata": {},
      "source": [
        "> 💡 **类型转换的注意事项**\n",
        "> \n",
        "> 1. 不是所有转换都能成功，要做好错误处理\n",
        "> 2. 数字字符串（如\"123\"，\"3.14\"）可以转换成数字\n",
        "> 3. 小数转整数会去掉小数部分\n",
        "> 4. 转换前最好检查数据是否合适\n",
        "> 5. 在处理用户输入时，类型转换特别重要\n"
      ]
    }
  ],
  "metadata": {
    "kernelspec": {
      "display_name": "base",
      "language": "python",
      "name": "python3"
    },
    "language_info": {
      "codemirror_mode": {
        "name": "ipython",
        "version": 3
      },
      "file_extension": ".py",
      "mimetype": "text/x-python",
      "name": "python",
      "nbconvert_exporter": "python",
      "pygments_lexer": "ipython3",
      "version": "3.11.5"
    }
  },
  "nbformat": 4,
  "nbformat_minor": 4
}
